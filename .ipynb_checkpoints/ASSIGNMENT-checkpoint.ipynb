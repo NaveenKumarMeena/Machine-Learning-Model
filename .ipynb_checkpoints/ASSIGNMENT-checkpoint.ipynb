{
 "cells": [
  {
   "cell_type": "code",
   "execution_count": 43,
   "metadata": {
    "id": "HnQsgCOEZPl6"
   },
   "outputs": [],
   "source": [
    "import numpy as np\n",
    "import re\n",
    "import string"
   ]
  },
  {
   "cell_type": "code",
   "execution_count": 44,
   "metadata": {
    "colab": {
     "base_uri": "https://localhost:8080/",
     "height": 416
    },
    "id": "-XZcAamSQpal",
    "outputId": "49f36458-a708-4fa3-8608-67e5c76a0acc"
   },
   "outputs": [],
   "source": [
    "import pandas as pd\n",
    "# train Data\n",
    "trainData = pd.read_csv(\"C:\\\\Users\\\\91807\\\\Downloads\\\\training.1600000.processed.noemoticon.csv\",encoding='latin-1')\n",
    "# test Data\n",
    "testData = pd.read_csv(\"C:\\\\Users\\\\91807\\\\Downloads\\\\training.1600000.processed.noemoticon.csv\",encoding='latin-1')"
   ]
  },
  {
   "cell_type": "code",
   "execution_count": 46,
   "metadata": {
    "colab": {
     "base_uri": "https://localhost:8080/",
     "height": 167
    },
    "id": "QbTi7L-yX8CB",
    "outputId": "878ac138-200f-463e-8828-73c299aaeede"
   },
   "outputs": [],
   "source": [
    "trainData = trainData[799000:801000]"
   ]
  },
  {
   "cell_type": "code",
   "execution_count": 47,
   "metadata": {
    "id": "huom2BV9Zkkn"
   },
   "outputs": [],
   "source": [
    "testData = testData[798000:802000]"
   ]
  },
  {
   "cell_type": "code",
   "execution_count": 48,
   "metadata": {
    "colab": {
     "base_uri": "https://localhost:8080/",
     "height": 337
    },
    "id": "OhpTVN8pZwAu",
    "outputId": "56f2ab43-b078-468d-e278-094953ce3f76"
   },
   "outputs": [
    {
     "data": {
      "text/html": [
       "<div>\n",
       "<style scoped>\n",
       "    .dataframe tbody tr th:only-of-type {\n",
       "        vertical-align: middle;\n",
       "    }\n",
       "\n",
       "    .dataframe tbody tr th {\n",
       "        vertical-align: top;\n",
       "    }\n",
       "\n",
       "    .dataframe thead th {\n",
       "        text-align: right;\n",
       "    }\n",
       "</style>\n",
       "<table border=\"1\" class=\"dataframe\">\n",
       "  <thead>\n",
       "    <tr style=\"text-align: right;\">\n",
       "      <th></th>\n",
       "      <th>TARGET</th>\n",
       "      <th>ID</th>\n",
       "      <th>DATE</th>\n",
       "      <th>QUERY</th>\n",
       "      <th>ACCOUNT</th>\n",
       "      <th>TWEET</th>\n",
       "    </tr>\n",
       "  </thead>\n",
       "  <tbody>\n",
       "    <tr>\n",
       "      <th>798000</th>\n",
       "      <td>0</td>\n",
       "      <td>2328378861</td>\n",
       "      <td>Thu Jun 25 09:30:33 PDT 2009</td>\n",
       "      <td>NO_QUERY</td>\n",
       "      <td>skelekitty</td>\n",
       "      <td>Work is so slow, I'm seriously considering qui...</td>\n",
       "    </tr>\n",
       "    <tr>\n",
       "      <th>798001</th>\n",
       "      <td>0</td>\n",
       "      <td>2328379014</td>\n",
       "      <td>Thu Jun 25 09:30:33 PDT 2009</td>\n",
       "      <td>NO_QUERY</td>\n",
       "      <td>DjinniGenie</td>\n",
       "      <td>@davidvancamp That's awful.  I wish mine would...</td>\n",
       "    </tr>\n",
       "    <tr>\n",
       "      <th>798002</th>\n",
       "      <td>0</td>\n",
       "      <td>2328379041</td>\n",
       "      <td>Thu Jun 25 09:30:33 PDT 2009</td>\n",
       "      <td>NO_QUERY</td>\n",
       "      <td>Unrated7String</td>\n",
       "      <td>Well, i guess i need to start a new chapter in...</td>\n",
       "    </tr>\n",
       "    <tr>\n",
       "      <th>798003</th>\n",
       "      <td>0</td>\n",
       "      <td>2328379271</td>\n",
       "      <td>Thu Jun 25 09:30:34 PDT 2009</td>\n",
       "      <td>NO_QUERY</td>\n",
       "      <td>jamesebradford</td>\n",
       "      <td>@SandraBernhard Miss Lady, since you brought u...</td>\n",
       "    </tr>\n",
       "    <tr>\n",
       "      <th>798004</th>\n",
       "      <td>0</td>\n",
       "      <td>2328379299</td>\n",
       "      <td>Thu Jun 25 09:30:34 PDT 2009</td>\n",
       "      <td>NO_QUERY</td>\n",
       "      <td>njandecrox</td>\n",
       "      <td>@CarterTwinsZach Im sorry I hope u feel better...</td>\n",
       "    </tr>\n",
       "  </tbody>\n",
       "</table>\n",
       "</div>"
      ],
      "text/plain": [
       "        TARGET          ID                          DATE     QUERY  \\\n",
       "798000       0  2328378861  Thu Jun 25 09:30:33 PDT 2009  NO_QUERY   \n",
       "798001       0  2328379014  Thu Jun 25 09:30:33 PDT 2009  NO_QUERY   \n",
       "798002       0  2328379041  Thu Jun 25 09:30:33 PDT 2009  NO_QUERY   \n",
       "798003       0  2328379271  Thu Jun 25 09:30:34 PDT 2009  NO_QUERY   \n",
       "798004       0  2328379299  Thu Jun 25 09:30:34 PDT 2009  NO_QUERY   \n",
       "\n",
       "               ACCOUNT                                              TWEET  \n",
       "798000      skelekitty  Work is so slow, I'm seriously considering qui...  \n",
       "798001     DjinniGenie  @davidvancamp That's awful.  I wish mine would...  \n",
       "798002  Unrated7String  Well, i guess i need to start a new chapter in...  \n",
       "798003  jamesebradford  @SandraBernhard Miss Lady, since you brought u...  \n",
       "798004      njandecrox  @CarterTwinsZach Im sorry I hope u feel better...  "
      ]
     },
     "execution_count": 48,
     "metadata": {},
     "output_type": "execute_result"
    }
   ],
   "source": [
    "testData.head()"
   ]
  },
  {
   "cell_type": "code",
   "execution_count": 49,
   "metadata": {
    "colab": {
     "base_uri": "https://localhost:8080/",
     "height": 354
    },
    "id": "0pyeyd32Yel5",
    "outputId": "4c5da981-758d-4b89-93a0-656e67094c52"
   },
   "outputs": [
    {
     "name": "stdout",
     "output_type": "stream",
     "text": [
      "(2000, 6)\n"
     ]
    },
    {
     "data": {
      "text/html": [
       "<div>\n",
       "<style scoped>\n",
       "    .dataframe tbody tr th:only-of-type {\n",
       "        vertical-align: middle;\n",
       "    }\n",
       "\n",
       "    .dataframe tbody tr th {\n",
       "        vertical-align: top;\n",
       "    }\n",
       "\n",
       "    .dataframe thead th {\n",
       "        text-align: right;\n",
       "    }\n",
       "</style>\n",
       "<table border=\"1\" class=\"dataframe\">\n",
       "  <thead>\n",
       "    <tr style=\"text-align: right;\">\n",
       "      <th></th>\n",
       "      <th>TARGET</th>\n",
       "      <th>ID</th>\n",
       "      <th>DATE</th>\n",
       "      <th>QUERY</th>\n",
       "      <th>ACCOUNT</th>\n",
       "      <th>TWEET</th>\n",
       "    </tr>\n",
       "  </thead>\n",
       "  <tbody>\n",
       "    <tr>\n",
       "      <th>799000</th>\n",
       "      <td>0</td>\n",
       "      <td>2328818606</td>\n",
       "      <td>Thu Jun 25 10:01:34 PDT 2009</td>\n",
       "      <td>NO_QUERY</td>\n",
       "      <td>redstar72</td>\n",
       "      <td>CAN'T BEAT LIVE MUSIC, WISH I COULD SING BUT I...</td>\n",
       "    </tr>\n",
       "    <tr>\n",
       "      <th>799001</th>\n",
       "      <td>0</td>\n",
       "      <td>2328818761</td>\n",
       "      <td>Thu Jun 25 10:01:35 PDT 2009</td>\n",
       "      <td>NO_QUERY</td>\n",
       "      <td>LIDA360</td>\n",
       "      <td>Charlie lost an angel today   Very sad   http:...</td>\n",
       "    </tr>\n",
       "    <tr>\n",
       "      <th>799002</th>\n",
       "      <td>0</td>\n",
       "      <td>2328818847</td>\n",
       "      <td>Thu Jun 25 10:01:35 PDT 2009</td>\n",
       "      <td>NO_QUERY</td>\n",
       "      <td>rnspires21</td>\n",
       "      <td>at work, and very bored</td>\n",
       "    </tr>\n",
       "    <tr>\n",
       "      <th>799003</th>\n",
       "      <td>0</td>\n",
       "      <td>2328819310</td>\n",
       "      <td>Thu Jun 25 10:01:37 PDT 2009</td>\n",
       "      <td>NO_QUERY</td>\n",
       "      <td>lasthonestlook</td>\n",
       "      <td>It's weird how celebrities go in threes. Carra...</td>\n",
       "    </tr>\n",
       "    <tr>\n",
       "      <th>799004</th>\n",
       "      <td>0</td>\n",
       "      <td>2328819347</td>\n",
       "      <td>Thu Jun 25 10:01:37 PDT 2009</td>\n",
       "      <td>NO_QUERY</td>\n",
       "      <td>deiann</td>\n",
       "      <td>@adelate Farrah's dead? Had no idea.. RIP Farr...</td>\n",
       "    </tr>\n",
       "  </tbody>\n",
       "</table>\n",
       "</div>"
      ],
      "text/plain": [
       "        TARGET          ID                          DATE     QUERY  \\\n",
       "799000       0  2328818606  Thu Jun 25 10:01:34 PDT 2009  NO_QUERY   \n",
       "799001       0  2328818761  Thu Jun 25 10:01:35 PDT 2009  NO_QUERY   \n",
       "799002       0  2328818847  Thu Jun 25 10:01:35 PDT 2009  NO_QUERY   \n",
       "799003       0  2328819310  Thu Jun 25 10:01:37 PDT 2009  NO_QUERY   \n",
       "799004       0  2328819347  Thu Jun 25 10:01:37 PDT 2009  NO_QUERY   \n",
       "\n",
       "               ACCOUNT                                              TWEET  \n",
       "799000       redstar72  CAN'T BEAT LIVE MUSIC, WISH I COULD SING BUT I...  \n",
       "799001         LIDA360  Charlie lost an angel today   Very sad   http:...  \n",
       "799002      rnspires21                           at work, and very bored   \n",
       "799003  lasthonestlook  It's weird how celebrities go in threes. Carra...  \n",
       "799004          deiann  @adelate Farrah's dead? Had no idea.. RIP Farr...  "
      ]
     },
     "execution_count": 49,
     "metadata": {},
     "output_type": "execute_result"
    }
   ],
   "source": [
    "print(trainData.shape)\n",
    "trainData.head()"
   ]
  },
  {
   "cell_type": "code",
   "execution_count": 50,
   "metadata": {
    "id": "bf32-uIVYmSq"
   },
   "outputs": [],
   "source": [
    "from sklearn.feature_extraction.text import TfidfVectorizer\n",
    "# Create feature vectors\n",
    "vectorizer = TfidfVectorizer(min_df = 5,\n",
    "                             max_df = 0.8,\n",
    "                             sublinear_tf = True,\n",
    "                             use_idf = True)\n",
    "train_vectors = vectorizer.fit_transform(trainData['TWEET'])\n",
    "test_vectors = vectorizer.transform(testData['TWEET'])"
   ]
  },
  {
   "cell_type": "code",
   "execution_count": 51,
   "metadata": {
    "id": "OqGs7QDvZ1fO"
   },
   "outputs": [
    {
     "name": "stdout",
     "output_type": "stream",
     "text": [
      "Training time: 0.342986s; Prediction time: 0.417609s\n",
      "positive:  {'precision': 0.7758389261744967, 'recall': 0.867, 'f1-score': 0.8188902007083826, 'support': 2000}\n",
      "negative:  {'precision': 0.8492917847025496, 'recall': 0.7495, 'f1-score': 0.796281540504648, 'support': 2000}\n"
     ]
    }
   ],
   "source": [
    "import time\n",
    "from sklearn import svm\n",
    "from sklearn.metrics import classification_report\n",
    "# Perform classification with SVM, kernel=linear\n",
    "classifier_linear = svm.SVC(kernel='linear')\n",
    "t0 = time.time()\n",
    "classifier_linear.fit(train_vectors, trainData['TARGET'])\n",
    "t1 = time.time()\n",
    "prediction_linear = classifier_linear.predict(test_vectors)\n",
    "t2 = time.time()\n",
    "time_linear_train = t1-t0\n",
    "time_linear_predict = t2-t1\n",
    "# results\n",
    "print(\"Training time: %fs; Prediction time: %fs\" % (time_linear_train, time_linear_predict))\n",
    "report = classification_report(testData['TARGET'], prediction_linear, output_dict=True)\n",
    "print('positive: ', report['4'])\n",
    "print('negative: ', report['0'])"
   ]
  },
  {
   "cell_type": "code",
   "execution_count": null,
   "metadata": {
    "id": "Obevv1qBaA_A"
   },
   "outputs": [],
   "source": []
  },
  {
   "cell_type": "code",
   "execution_count": null,
   "metadata": {},
   "outputs": [],
   "source": []
  }
 ],
 "metadata": {
  "colab": {
   "provenance": []
  },
  "gpuClass": "standard",
  "kernelspec": {
   "display_name": "Python 3 (ipykernel)",
   "language": "python",
   "name": "python3"
  },
  "language_info": {
   "codemirror_mode": {
    "name": "ipython",
    "version": 3
   },
   "file_extension": ".py",
   "mimetype": "text/x-python",
   "name": "python",
   "nbconvert_exporter": "python",
   "pygments_lexer": "ipython3",
   "version": "3.9.4"
  },
  "vscode": {
   "interpreter": {
    "hash": "465cbd4653bf4b176ae909d20faf890a08e4684eb06b27ba12409670912b0074"
   }
  }
 },
 "nbformat": 4,
 "nbformat_minor": 1
}
