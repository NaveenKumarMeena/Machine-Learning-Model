{
 "cells": [
  {
   "cell_type": "code",
   "execution_count": 43,
   "metadata": {
    "id": "HnQsgCOEZPl6"
   },
   "outputs": [],
   "source": [
    "import numpy as np\n",
    "import re\n",
    "import string"
   ]
  },
  {
   "cell_type": "code",
   "execution_count": 29,
   "metadata": {
    "colab": {
     "base_uri": "https://localhost:8080/",
     "height": 416
    },
    "id": "-XZcAamSQpal",
    "outputId": "49f36458-a708-4fa3-8608-67e5c76a0acc"
   },
   "outputs": [],
   "source": [
    "import pandas as pd\n",
    "# train \n",
    "trainData = pd.read_csv(\"C:\\\\Users\\\\91807\\\\Downloads\\\\archive\\\\training.1600000.processed.noemoticon.csv\",encoding='latin-1')\n",
    "# test \n",
    "testData = pd.read_csv(\"C:\\\\Users\\\\91807\\\\Downloads\\\\archive\\\\training.1600000.processed.noemoticon.csv\",encoding='latin-1')"
   ]
  },
  {
   "cell_type": "code",
   "execution_count": 32,
   "metadata": {
    "colab": {
     "base_uri": "https://localhost:8080/",
     "height": 167
    },
    "id": "QbTi7L-yX8CB",
    "outputId": "878ac138-200f-463e-8828-73c299aaeede"
   },
   "outputs": [],
   "source": [
    "trainData = trainData[799000:801000]"
   ]
  },
  {
   "cell_type": "code",
   "execution_count": 33,
   "metadata": {
    "id": "huom2BV9Zkkn"
   },
   "outputs": [],
   "source": [
    "testData = testData[798000:802000]"
   ]
  },
  {
   "cell_type": "code",
   "execution_count": 34,
   "metadata": {},
   "outputs": [
    {
     "data": {
      "text/html": [
       "<div>\n",
       "<style scoped>\n",
       "    .dataframe tbody tr th:only-of-type {\n",
       "        vertical-align: middle;\n",
       "    }\n",
       "\n",
       "    .dataframe tbody tr th {\n",
       "        vertical-align: top;\n",
       "    }\n",
       "\n",
       "    .dataframe thead th {\n",
       "        text-align: right;\n",
       "    }\n",
       "</style>\n",
       "<table border=\"1\" class=\"dataframe\">\n",
       "  <thead>\n",
       "    <tr style=\"text-align: right;\">\n",
       "      <th></th>\n",
       "      <th>TARGET</th>\n",
       "      <th>ID</th>\n",
       "      <th>DATE</th>\n",
       "      <th>QUERY</th>\n",
       "      <th>USERNAME</th>\n",
       "      <th>TWEET</th>\n",
       "    </tr>\n",
       "  </thead>\n",
       "  <tbody>\n",
       "    <tr>\n",
       "      <th>798000</th>\n",
       "      <td>0</td>\n",
       "      <td>2328379014</td>\n",
       "      <td>Thu Jun 25 09:30:33 PDT 2009</td>\n",
       "      <td>NO_QUERY</td>\n",
       "      <td>DjinniGenie</td>\n",
       "      <td>@davidvancamp That's awful.  I wish mine would...</td>\n",
       "    </tr>\n",
       "    <tr>\n",
       "      <th>798001</th>\n",
       "      <td>0</td>\n",
       "      <td>2328379041</td>\n",
       "      <td>Thu Jun 25 09:30:33 PDT 2009</td>\n",
       "      <td>NO_QUERY</td>\n",
       "      <td>Unrated7String</td>\n",
       "      <td>Well, i guess i need to start a new chapter in...</td>\n",
       "    </tr>\n",
       "    <tr>\n",
       "      <th>798002</th>\n",
       "      <td>0</td>\n",
       "      <td>2328379271</td>\n",
       "      <td>Thu Jun 25 09:30:34 PDT 2009</td>\n",
       "      <td>NO_QUERY</td>\n",
       "      <td>jamesebradford</td>\n",
       "      <td>@SandraBernhard Miss Lady, since you brought u...</td>\n",
       "    </tr>\n",
       "    <tr>\n",
       "      <th>798003</th>\n",
       "      <td>0</td>\n",
       "      <td>2328379299</td>\n",
       "      <td>Thu Jun 25 09:30:34 PDT 2009</td>\n",
       "      <td>NO_QUERY</td>\n",
       "      <td>njandecrox</td>\n",
       "      <td>@CarterTwinsZach Im sorry I hope u feel better...</td>\n",
       "    </tr>\n",
       "    <tr>\n",
       "      <th>798004</th>\n",
       "      <td>0</td>\n",
       "      <td>2328379389</td>\n",
       "      <td>Thu Jun 25 09:30:35 PDT 2009</td>\n",
       "      <td>NO_QUERY</td>\n",
       "      <td>lejunkdrawer</td>\n",
       "      <td>@StewartWade Yeah, I know--pigs for sure...whi...</td>\n",
       "    </tr>\n",
       "  </tbody>\n",
       "</table>\n",
       "</div>"
      ],
      "text/plain": [
       "        TARGET          ID                          DATE     QUERY  \\\n",
       "798000       0  2328379014  Thu Jun 25 09:30:33 PDT 2009  NO_QUERY   \n",
       "798001       0  2328379041  Thu Jun 25 09:30:33 PDT 2009  NO_QUERY   \n",
       "798002       0  2328379271  Thu Jun 25 09:30:34 PDT 2009  NO_QUERY   \n",
       "798003       0  2328379299  Thu Jun 25 09:30:34 PDT 2009  NO_QUERY   \n",
       "798004       0  2328379389  Thu Jun 25 09:30:35 PDT 2009  NO_QUERY   \n",
       "\n",
       "              USERNAME                                              TWEET  \n",
       "798000     DjinniGenie  @davidvancamp That's awful.  I wish mine would...  \n",
       "798001  Unrated7String  Well, i guess i need to start a new chapter in...  \n",
       "798002  jamesebradford  @SandraBernhard Miss Lady, since you brought u...  \n",
       "798003      njandecrox  @CarterTwinsZach Im sorry I hope u feel better...  \n",
       "798004    lejunkdrawer  @StewartWade Yeah, I know--pigs for sure...whi...  "
      ]
     },
     "execution_count": 34,
     "metadata": {},
     "output_type": "execute_result"
    }
   ],
   "source": [
    "testData.head()"
   ]
  },
  {
   "cell_type": "code",
   "execution_count": 35,
   "metadata": {},
   "outputs": [
    {
     "data": {
      "text/html": [
       "<div>\n",
       "<style scoped>\n",
       "    .dataframe tbody tr th:only-of-type {\n",
       "        vertical-align: middle;\n",
       "    }\n",
       "\n",
       "    .dataframe tbody tr th {\n",
       "        vertical-align: top;\n",
       "    }\n",
       "\n",
       "    .dataframe thead th {\n",
       "        text-align: right;\n",
       "    }\n",
       "</style>\n",
       "<table border=\"1\" class=\"dataframe\">\n",
       "  <thead>\n",
       "    <tr style=\"text-align: right;\">\n",
       "      <th></th>\n",
       "      <th>TARGET</th>\n",
       "      <th>ID</th>\n",
       "      <th>DATE</th>\n",
       "      <th>QUERY</th>\n",
       "      <th>USERNAME</th>\n",
       "      <th>TWEET</th>\n",
       "    </tr>\n",
       "  </thead>\n",
       "  <tbody>\n",
       "    <tr>\n",
       "      <th>799000</th>\n",
       "      <td>0</td>\n",
       "      <td>2328818761</td>\n",
       "      <td>Thu Jun 25 10:01:35 PDT 2009</td>\n",
       "      <td>NO_QUERY</td>\n",
       "      <td>LIDA360</td>\n",
       "      <td>Charlie lost an angel today   Very sad   http:...</td>\n",
       "    </tr>\n",
       "    <tr>\n",
       "      <th>799001</th>\n",
       "      <td>0</td>\n",
       "      <td>2328818847</td>\n",
       "      <td>Thu Jun 25 10:01:35 PDT 2009</td>\n",
       "      <td>NO_QUERY</td>\n",
       "      <td>rnspires21</td>\n",
       "      <td>at work, and very bored</td>\n",
       "    </tr>\n",
       "    <tr>\n",
       "      <th>799002</th>\n",
       "      <td>0</td>\n",
       "      <td>2328819310</td>\n",
       "      <td>Thu Jun 25 10:01:37 PDT 2009</td>\n",
       "      <td>NO_QUERY</td>\n",
       "      <td>lasthonestlook</td>\n",
       "      <td>It's weird how celebrities go in threes. Carra...</td>\n",
       "    </tr>\n",
       "    <tr>\n",
       "      <th>799003</th>\n",
       "      <td>0</td>\n",
       "      <td>2328819347</td>\n",
       "      <td>Thu Jun 25 10:01:37 PDT 2009</td>\n",
       "      <td>NO_QUERY</td>\n",
       "      <td>deiann</td>\n",
       "      <td>@adelate Farrah's dead? Had no idea.. RIP Farr...</td>\n",
       "    </tr>\n",
       "    <tr>\n",
       "      <th>799004</th>\n",
       "      <td>0</td>\n",
       "      <td>2328819450</td>\n",
       "      <td>Thu Jun 25 10:01:37 PDT 2009</td>\n",
       "      <td>NO_QUERY</td>\n",
       "      <td>jessoquinn</td>\n",
       "      <td>Very sad news.  Farrah Fawcett passed away.</td>\n",
       "    </tr>\n",
       "  </tbody>\n",
       "</table>\n",
       "</div>"
      ],
      "text/plain": [
       "        TARGET          ID                          DATE     QUERY  \\\n",
       "799000       0  2328818761  Thu Jun 25 10:01:35 PDT 2009  NO_QUERY   \n",
       "799001       0  2328818847  Thu Jun 25 10:01:35 PDT 2009  NO_QUERY   \n",
       "799002       0  2328819310  Thu Jun 25 10:01:37 PDT 2009  NO_QUERY   \n",
       "799003       0  2328819347  Thu Jun 25 10:01:37 PDT 2009  NO_QUERY   \n",
       "799004       0  2328819450  Thu Jun 25 10:01:37 PDT 2009  NO_QUERY   \n",
       "\n",
       "              USERNAME                                              TWEET  \n",
       "799000         LIDA360  Charlie lost an angel today   Very sad   http:...  \n",
       "799001      rnspires21                           at work, and very bored   \n",
       "799002  lasthonestlook  It's weird how celebrities go in threes. Carra...  \n",
       "799003          deiann  @adelate Farrah's dead? Had no idea.. RIP Farr...  \n",
       "799004      jessoquinn      Very sad news.  Farrah Fawcett passed away.    "
      ]
     },
     "execution_count": 35,
     "metadata": {},
     "output_type": "execute_result"
    }
   ],
   "source": [
    "trainData.head()"
   ]
  },
  {
   "cell_type": "code",
   "execution_count": 1,
   "metadata": {
    "id": "bf32-uIVYmSq"
   },
   "outputs": [
    {
     "ename": "NameError",
     "evalue": "name 'trainData' is not defined",
     "output_type": "error",
     "traceback": [
      "\u001b[1;31m---------------------------------------------------------------------------\u001b[0m",
      "\u001b[1;31mNameError\u001b[0m                                 Traceback (most recent call last)",
      "Input \u001b[1;32mIn [1]\u001b[0m, in \u001b[0;36m<cell line: 7>\u001b[1;34m()\u001b[0m\n\u001b[0;32m      2\u001b[0m \u001b[38;5;66;03m# Create feature vectors\u001b[39;00m\n\u001b[0;32m      3\u001b[0m vectorizer \u001b[38;5;241m=\u001b[39m TfidfVectorizer(min_df \u001b[38;5;241m=\u001b[39m \u001b[38;5;241m5\u001b[39m,\n\u001b[0;32m      4\u001b[0m                              max_df \u001b[38;5;241m=\u001b[39m \u001b[38;5;241m0.8\u001b[39m,\n\u001b[0;32m      5\u001b[0m                              sublinear_tf \u001b[38;5;241m=\u001b[39m \u001b[38;5;28;01mTrue\u001b[39;00m,\n\u001b[0;32m      6\u001b[0m                              use_idf \u001b[38;5;241m=\u001b[39m \u001b[38;5;28;01mTrue\u001b[39;00m)\n\u001b[1;32m----> 7\u001b[0m train_vectors \u001b[38;5;241m=\u001b[39m vectorizer\u001b[38;5;241m.\u001b[39mfit_transform(\u001b[43mtrainData\u001b[49m[\u001b[38;5;124m'\u001b[39m\u001b[38;5;124mTWEET\u001b[39m\u001b[38;5;124m'\u001b[39m])\n\u001b[0;32m      8\u001b[0m test_vectors \u001b[38;5;241m=\u001b[39m vectorizer\u001b[38;5;241m.\u001b[39mtransform(testData[\u001b[38;5;124m'\u001b[39m\u001b[38;5;124mTWEET\u001b[39m\u001b[38;5;124m'\u001b[39m])\n",
      "\u001b[1;31mNameError\u001b[0m: name 'trainData' is not defined"
     ]
    }
   ],
   "source": [
    "from sklearn.feature_extraction.text import TfidfVectorizer\n",
    "# Create feature vectors\n",
    "vectorizer = TfidfVectorizer(min_df = 5,\n",
    "                             max_df = 0.8,\n",
    "                             sublinear_tf = True,\n",
    "                             use_idf = True)\n",
    "train_vectors = vectorizer.fit_transform(trainData['TWEET'])\n",
    "test_vectors = vectorizer.transform(testData['TWEET'])"
   ]
  },
  {
   "cell_type": "code",
   "execution_count": null,
   "metadata": {
    "id": "OqGs7QDvZ1fO"
   },
   "outputs": [],
   "source": [
    "import time\n",
    "from sklearn import svm\n",
    "from sklearn.metrics import classification_report\n",
    "# Perform classification with SVM, kernel=linear\n",
    "classifier_linear = svm.SVC(kernel='linear')\n",
    "t0 = time.time()\n",
    "classifier_linear.fit(train_vectors, trainData['TARGET'])\n",
    "t1 = time.time()\n",
    "prediction_linear = classifier_linear.predict(test_vectors)\n",
    "t2 = time.time()\n",
    "time_linear_train = t1-t0\n",
    "time_linear_predict = t2-t1\n",
    "# results\n",
    "print(\"Training time: %fs; Prediction time: %fs\" % (time_linear_train, time_linear_predict))\n",
    "report = classification_report(testData['TARGET'], prediction_linear, output_dict=True)\n",
    "print('positive: ', report['4'])\n",
    "print('negative: ', report['0'])"
   ]
  }
 ],
 "metadata": {
  "colab": {
   "provenance": []
  },
  "gpuClass": "standard",
  "kernelspec": {
   "display_name": "Python 3 (ipykernel)",
   "language": "python",
   "name": "python3"
  },
  "language_info": {
   "codemirror_mode": {
    "name": "ipython",
    "version": 3
   },
   "file_extension": ".py",
   "mimetype": "text/x-python",
   "name": "python",
   "nbconvert_exporter": "python",
   "pygments_lexer": "ipython3",
   "version": "3.9.4"
  },
  "vscode": {
   "interpreter": {
    "hash": "465cbd4653bf4b176ae909d20faf890a08e4684eb06b27ba12409670912b0074"
   }
  }
 },
 "nbformat": 4,
 "nbformat_minor": 1
}
