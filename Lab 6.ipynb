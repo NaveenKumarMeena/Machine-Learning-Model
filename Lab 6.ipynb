{
 "cells": [
  {
   "cell_type": "markdown",
   "id": "246d1f39",
   "metadata": {},
   "source": [
    "# Name : Naveen Kumar Meena\n",
    "# Roll NO : UE208066"
   ]
  },
  {
   "cell_type": "code",
   "execution_count": 1,
   "id": "c6385e3f",
   "metadata": {},
   "outputs": [
    {
     "name": "stdout",
     "output_type": "stream",
     "text": [
      "(4, 2)\n"
     ]
    },
    {
     "data": {
      "text/plain": [
       "array([[0, 0],\n",
       "       [0, 1],\n",
       "       [1, 0],\n",
       "       [1, 1]])"
      ]
     },
     "execution_count": 1,
     "metadata": {},
     "output_type": "execute_result"
    }
   ],
   "source": [
    "import numpy as np\n",
    "# Define input\n",
    "X = np.array([[0,0],[0,1],[1,0],[1,1]])\n",
    "print(X.shape)\n",
    "X"
   ]
  },
  {
   "cell_type": "code",
   "execution_count": 2,
   "id": "a70f4f2b",
   "metadata": {},
   "outputs": [
    {
     "name": "stdout",
     "output_type": "stream",
     "text": [
      "(4, 1)\n"
     ]
    },
    {
     "data": {
      "text/plain": [
       "array([[0],\n",
       "       [1],\n",
       "       [1],\n",
       "       [1]])"
      ]
     },
     "execution_count": 2,
     "metadata": {},
     "output_type": "execute_result"
    }
   ],
   "source": [
    "#Define output features\n",
    "Y = np.array([[0,1,1,1]])\n",
    "# Reshape target into vector\n",
    "Y = Y.reshape(4,1)\n",
    "print(Y.shape)\n",
    "Y"
   ]
  },
  {
   "cell_type": "code",
   "execution_count": 3,
   "id": "d8f3f209",
   "metadata": {},
   "outputs": [
    {
     "name": "stdout",
     "output_type": "stream",
     "text": [
      "(2, 1)\n"
     ]
    },
    {
     "data": {
      "text/plain": [
       "array([[0.1],\n",
       "       [0.2]])"
      ]
     },
     "execution_count": 3,
     "metadata": {},
     "output_type": "execute_result"
    }
   ],
   "source": [
    "# Select random weights w1, w2\n",
    "W = np.array([[0.1],[0.2]])\n",
    "# bias b\n",
    "b = 0.3\n",
    "# learning rate alpha\n",
    "alpha = 0.05\n",
    "print(W.shape)\n",
    "W"
   ]
  },
  {
   "cell_type": "code",
   "execution_count": 5,
   "id": "0e782cdb",
   "metadata": {},
   "outputs": [],
   "source": [
    "# Sigmoid function\n",
    "def sigmoid(z):\n",
    "    sig = 1/(1 + np.exp(-z))\n",
    "    return sig"
   ]
  },
  {
   "cell_type": "code",
   "execution_count": 6,
   "id": "3c6e5673",
   "metadata": {},
   "outputs": [],
   "source": [
    "# Derivative of sigmoid\n",
    "def sigmoid_der(z):\n",
    "    sig_der = sigmoid(z)*(1-sigmoid(z))\n",
    "    return sig_der"
   ]
  },
  {
   "cell_type": "code",
   "execution_count": 9,
   "id": "ed4d7b9f",
   "metadata": {},
   "outputs": [],
   "source": [
    "# Neural network\n",
    "for epoch in range(1000):\n",
    "# Feedforward network\n",
    "    z1 = np.dot(X,W)+b\n",
    "    a1 = sigmoid(z1)\n",
    "# backpropagation algorithm\n",
    "# Error calculation\n",
    "    error = a1 -Y\n",
    "    l= error.sum()\n",
    "# derivative calculation\n",
    "    da2 = error\n",
    "# dE/da2\n",
    "    dz2 = sigmoid_der(z1)\n",
    "#da2/dz2\n",
    "    deriv = da2 * dz2\n",
    "# dE/da2 * da2/dz2 = dE/dz2\n",
    "    X_T = X.T\n",
    "    dw2 = np.dot(X_T,deriv)\n",
    "# dE/dw\n",
    "# updating weight\n",
    "    W-= alpha * dw2\n",
    "# updating bias\n",
    "    for i in deriv:\n",
    "        b-= alpha*i"
   ]
  },
  {
   "cell_type": "code",
   "execution_count": 10,
   "id": "fa9725d2",
   "metadata": {},
   "outputs": [
    {
     "name": "stdout",
     "output_type": "stream",
     "text": [
      "[[2.39311258]\n",
      " [2.40156636]]\n",
      "[-0.82766565]\n"
     ]
    }
   ],
   "source": [
    "print(W)\n",
    "print(b)"
   ]
  },
  {
   "cell_type": "code",
   "execution_count": 11,
   "id": "5a0cff56",
   "metadata": {},
   "outputs": [
    {
     "name": "stdout",
     "output_type": "stream",
     "text": [
      "[0.82713356]\n"
     ]
    }
   ],
   "source": [
    "# prediction for 1 or 0 , target = 1\n",
    "single_point = np.array([1,0])\n",
    "# 1st step\n",
    "result1 = np.dot(single_point,W)+b\n",
    "# 2nd step\n",
    "result2 = sigmoid(result1)\n",
    "print(result2)"
   ]
  },
  {
   "cell_type": "markdown",
   "id": "094d9c36",
   "metadata": {},
   "source": [
    "# Assignment 1"
   ]
  },
  {
   "cell_type": "code",
   "execution_count": 12,
   "id": "b5bea06a",
   "metadata": {},
   "outputs": [
    {
     "name": "stdout",
     "output_type": "stream",
     "text": [
      "[0.9814218]\n"
     ]
    }
   ],
   "source": [
    "#Predict for (1,1) and target=1\n",
    "single_point = np.array([1,1])\n",
    "# 1st step\n",
    "result1 = np.dot(single_point,W)+b\n",
    "#2nd step\n",
    "result2 = sigmoid(result1)\n",
    "print(result2)"
   ]
  },
  {
   "cell_type": "code",
   "execution_count": 13,
   "id": "039d372b",
   "metadata": {},
   "outputs": [
    {
     "name": "stdout",
     "output_type": "stream",
     "text": [
      "[0.30413888]\n"
     ]
    }
   ],
   "source": [
    "#Predict for (0,0) and target=1\n",
    "single_point = np.array([0,0])\n",
    "# 1st step\n",
    "result1 = np.dot(single_point,W)+b\n",
    "#2nd step\n",
    "result2 = sigmoid(result1)\n",
    "print(result2)"
   ]
  },
  {
   "cell_type": "markdown",
   "id": "a7d71f15",
   "metadata": {},
   "source": [
    "# Checking Virus contractions using neural networks"
   ]
  },
  {
   "cell_type": "code",
   "execution_count": 15,
   "id": "b89de1cf",
   "metadata": {},
   "outputs": [
    {
     "name": "stdout",
     "output_type": "stream",
     "text": [
      "(8, 4)\n"
     ]
    },
    {
     "data": {
      "text/plain": [
       "array([[1, 0, 0, 1],\n",
       "       [1, 0, 0, 0],\n",
       "       [0, 0, 1, 1],\n",
       "       [0, 1, 0, 0],\n",
       "       [1, 1, 0, 0],\n",
       "       [0, 0, 1, 1],\n",
       "       [0, 0, 0, 1],\n",
       "       [0, 0, 1, 0]])"
      ]
     },
     "execution_count": 15,
     "metadata": {},
     "output_type": "execute_result"
    }
   ],
   "source": [
    "import numpy as np\n",
    "# Define input\n",
    "X = np.array([[1,0,0,1], [1,0,0,0], [0,0,1,1], [0,1,0,0], [1,1,0,0], [0,0,1,1], [0,0,0,1],[0, 0, 1, 0]])\n",
    "print(X.shape)\n",
    "X"
   ]
  },
  {
   "cell_type": "code",
   "execution_count": 26,
   "id": "99aa3cda",
   "metadata": {},
   "outputs": [
    {
     "name": "stdout",
     "output_type": "stream",
     "text": [
      "(8, 1)\n"
     ]
    },
    {
     "data": {
      "text/plain": [
       "array([[1],\n",
       "       [1],\n",
       "       [0],\n",
       "       [0],\n",
       "       [1],\n",
       "       [1],\n",
       "       [0],\n",
       "       [0]])"
      ]
     },
     "execution_count": 26,
     "metadata": {},
     "output_type": "execute_result"
    }
   ],
   "source": [
    "# Define output features\n",
    "Y = np.array([[1,1,0,0,1,1,0,0]])\n",
    "#Reshape target into vector\n",
    "Y=Y.reshape(8,1)\n",
    "print(Y.shape)\n",
    "Y"
   ]
  },
  {
   "cell_type": "code",
   "execution_count": 27,
   "id": "65491f23",
   "metadata": {},
   "outputs": [
    {
     "name": "stdout",
     "output_type": "stream",
     "text": [
      "(4, 1)\n"
     ]
    },
    {
     "data": {
      "text/plain": [
       "array([[0.1],\n",
       "       [0.2],\n",
       "       [0.3],\n",
       "       [0.4]])"
      ]
     },
     "execution_count": 27,
     "metadata": {},
     "output_type": "execute_result"
    }
   ],
   "source": [
    "# Select random weights w1, w2\n",
    "W = np.array([[0.1],[0.2],[0.3],[0.4]])\n",
    "#bias b\n",
    "b= 0.3\n",
    "# learning rate alpha \n",
    "alpha = 0.05\n",
    "print(W.shape)\n",
    "W"
   ]
  },
  {
   "cell_type": "code",
   "execution_count": 28,
   "id": "511079e7",
   "metadata": {},
   "outputs": [],
   "source": [
    "# Neural network\n",
    "for epoch in range(1000):\n",
    "# Feedforward network\n",
    "    z1 = np.dot(X,W)+b\n",
    "    a1 = sigmoid(z1)\n",
    "# backpropagation algorithm\n",
    "# Error calculation\n",
    "    error = a1 -Y\n",
    "    l= error.sum()\n",
    "# derivative calculation\n",
    "    da2 = error\n",
    "# dE/da2\n",
    "    dz2 = sigmoid_der(z1)\n",
    "#da2/dz2\n",
    "    deriv = da2 * dz2\n",
    "# dE/da2 * da2/dz2 = dE/dz2\n",
    "    X_T = X.T\n",
    "    dw2 = np.dot(X_T,deriv)\n",
    "# dE/dw\n",
    "# updating weight\n",
    "    W-= alpha * dw2\n",
    "# updating bias\n",
    "    for i in deriv:\n",
    "        b-= alpha*i"
   ]
  },
  {
   "cell_type": "code",
   "execution_count": 29,
   "id": "81f927b1",
   "metadata": {},
   "outputs": [
    {
     "name": "stdout",
     "output_type": "stream",
     "text": [
      "[[ 3.87716459]\n",
      " [-0.33622761]\n",
      " [ 0.5253264 ]\n",
      " [ 0.63647813]]\n",
      "[-1.67533041]\n"
     ]
    }
   ],
   "source": [
    "print(W)\n",
    "print(b)"
   ]
  },
  {
   "cell_type": "code",
   "execution_count": 30,
   "id": "1af15828",
   "metadata": {},
   "outputs": [
    {
     "name": "stdout",
     "output_type": "stream",
     "text": [
      "[0.94471138]\n"
     ]
    }
   ],
   "source": [
    "# prediction for 1,0,0,1 , target = 1\n",
    "single_point = np.array([1,0,0,1])\n",
    "# 1st step\n",
    "result1 = np.dot(single_point,W)+b\n",
    "# 2nd step\n",
    "result2 = sigmoid(result1)\n",
    "print(result2)"
   ]
  },
  {
   "cell_type": "markdown",
   "id": "7b6551ac",
   "metadata": {},
   "source": [
    "# Assignment 2"
   ]
  },
  {
   "cell_type": "code",
   "execution_count": 35,
   "id": "c33d5749",
   "metadata": {},
   "outputs": [
    {
     "name": "stdout",
     "output_type": "stream",
     "text": [
      "[0.93861043]\n"
     ]
    }
   ],
   "source": [
    "# prediction for 1,0,0,1 , target = 1\n",
    "single_point = np.array([1,0,1,0])\n",
    "# 1st step\n",
    "result1 = np.dot(single_point,W)+b\n",
    "# 2nd step\n",
    "result2 = sigmoid(result1)\n",
    "print(result2)"
   ]
  },
  {
   "cell_type": "code",
   "execution_count": 32,
   "id": "e886f791",
   "metadata": {},
   "outputs": [
    {
     "name": "stdout",
     "output_type": "stream",
     "text": [
      "(8, 4)\n",
      "(8, 1)\n",
      "(4, 1)\n",
      "[0.26137151]\n"
     ]
    }
   ],
   "source": [
    "import numpy as np\n",
    "\n",
    "# Define input\n",
    "X = np.array([[1,0,0,1], [1,0,0,0], [0,0,1,1], [0,1,0,0], [1,1,0,0], [0,0,1,1], [0,0,0,1],[0, 0, 1, 0]])\n",
    "print(X.shape)\n",
    "X\n",
    "\n",
    "# Define output features\n",
    "Y = np.array([[1,1,0,0,1,1,0,0]])\n",
    "\n",
    "#Reshape target into vector\n",
    "Y=Y.reshape(8,1)\n",
    "print(Y.shape)\n",
    "Y\n",
    "\n",
    "# Select random weights w1, w2\n",
    "W = np.array([[0.1],[0.2],[0.3],[0.4]])\n",
    "\n",
    "#bias b\n",
    "b= 0.3\n",
    "\n",
    "# learning rate alpha \n",
    "alpha = 0.05\n",
    "print(W.shape)\n",
    "W\n",
    "\n",
    "# sigmoid function and its derivative\n",
    "def sigmoid(x):\n",
    "    return 1/(1+np.exp(-x))\n",
    "\n",
    "def sigmoid_der(x):\n",
    "    return sigmoid(x)*(1-sigmoid(x))\n",
    "\n",
    "# Neural network\n",
    "for epoch in range(1000):\n",
    "    # Feedforward network\n",
    "    z1 = np.dot(X,W)+b\n",
    "    a1 = sigmoid(z1)\n",
    "\n",
    "    # backpropagation algorithm\n",
    "    # Error calculation\n",
    "    error = a1 - Y\n",
    "    l= error.sum()\n",
    "\n",
    "    # derivative calculation\n",
    "    da2 = error\n",
    "    # dE/da2\n",
    "    dz2 = sigmoid_der(z1)\n",
    "    #da2/dz2\n",
    "    deriv = da2 * dz2\n",
    "    # dE/da2 * da2/dz2 = dE/dz2\n",
    "    X_T = X.T\n",
    "    dw2 = np.dot(X_T,deriv)\n",
    "    # dE/dw\n",
    "    # updating weight\n",
    "    W-= alpha * dw2\n",
    "    # updating bias\n",
    "    for i in deriv:\n",
    "        b-= alpha*i\n",
    "\n",
    "# predicting the output for [0,0,0,1]\n",
    "input_data = np.array([0,0,0,1])\n",
    "output = sigmoid(np.dot(input_data, W)+b)\n",
    "print(output)\n"
   ]
  },
  {
   "cell_type": "code",
   "execution_count": 37,
   "id": "430fa7ca",
   "metadata": {},
   "outputs": [
    {
     "name": "stdout",
     "output_type": "stream",
     "text": [
      "[0.24048835]\n"
     ]
    }
   ],
   "source": [
    "# prediction for 0,0,1,0 , target = 0\n",
    "input_data = np.array([0,0,1,0])\n",
    "output = sigmoid(np.dot(input_data, W)+b)\n",
    "print(output)"
   ]
  },
  {
   "cell_type": "markdown",
   "id": "d3470b51",
   "metadata": {},
   "source": [
    "# Gates"
   ]
  },
  {
   "cell_type": "code",
   "execution_count": 41,
   "id": "7997ae22",
   "metadata": {},
   "outputs": [
    {
     "name": "stdout",
     "output_type": "stream",
     "text": [
      "Sigmoid \n",
      ": [[0.00669285]\n",
      " [0.99330715]\n",
      " [0.99330715]\n",
      " [0.99999969]]\n",
      "\n",
      " Yhat: [0, 1, 1, 1]\n"
     ]
    }
   ],
   "source": [
    "# OR gate\n",
    "\n",
    "import numpy as np\n",
    "# Define input\n",
    "X = np.array([[0,0],[0,1],[1,0],[1,1]])\n",
    "#Define output features\n",
    "Y = np.array([[0,1,1,1]])\n",
    "# Reshape target into vector\n",
    "Y = Y.reshape(4,1)\n",
    "# Select random weights w1, w2\n",
    "W = np.array([[10],[10]])\n",
    "# bias b\n",
    "b = -5\n",
    "\n",
    "z = np.dot(X,W)+b\n",
    "sig = 1/(1 + np.exp(-z))\n",
    "print('Sigmoid \\n:', sig)\n",
    "yhat1 = 0\n",
    "yhat = []\n",
    "for i in range(len(Y)):\n",
    "    if (sig[i] < 0.5):\n",
    "        yhat1 = 0\n",
    "    else:\n",
    "        yhat1 = 1\n",
    "    yhat.append(yhat1)\n",
    "print('\\n Yhat:', yhat)"
   ]
  },
  {
   "cell_type": "code",
   "execution_count": 43,
   "id": "2b667c42",
   "metadata": {},
   "outputs": [
    {
     "name": "stdout",
     "output_type": "stream",
     "text": [
      "Sigmoid \n",
      ": [[4.53978687e-05]\n",
      " [6.69285092e-03]\n",
      " [6.69285092e-03]\n",
      " [5.00000000e-01]]\n",
      "\n",
      " Yhat: [0, 0, 0, 1]\n"
     ]
    }
   ],
   "source": [
    "# AND gate\n",
    "import numpy as np\n",
    "# Define input\n",
    "X = np.array([[0,0],[0,1],[1,0],[1,1]])\n",
    "#Define output features\n",
    "Y = np.array([[0,0,0,1]])\n",
    "# Reshape target into vector\n",
    "Y = Y.reshape(4,1)\n",
    "# Select random weights w1, w2\n",
    "W = np.array([[5],[5]])\n",
    "# bias b\n",
    "b = -10\n",
    "\n",
    "z = np.dot(X,W)+b\n",
    "sig = 1/(1 + np.exp(-z))\n",
    "print('Sigmoid \\n:', sig)\n",
    "yhat1 = 0\n",
    "yhat = []\n",
    "for i in range(len(Y)):\n",
    "    if (sig[i] < 0.5):\n",
    "        yhat1 = 0\n",
    "    else:\n",
    "        yhat1 = 1\n",
    "    yhat.append(yhat1)\n",
    "print('\\n Yhat:', yhat)"
   ]
  },
  {
   "cell_type": "code",
   "execution_count": 45,
   "id": "941778eb",
   "metadata": {},
   "outputs": [
    {
     "name": "stdout",
     "output_type": "stream",
     "text": [
      "Sigmoid \n",
      ": [[0.99330715]\n",
      " [0.00669285]]\n",
      "\n",
      " Yhat: [1, 0]\n"
     ]
    }
   ],
   "source": [
    "# Not gate\n",
    "import numpy as np\n",
    "# Define input\n",
    "X = np.array([[0],[1]])\n",
    "#Define output features\n",
    "Y = np.array([[1,0]])\n",
    "# Reshape target into vector\n",
    "Y = Y.reshape(2,1)\n",
    "# Select random weights w1, w2\n",
    "W_not = -10\n",
    "# bias b\n",
    "b_not = 5\n",
    "z_not = np.dot(X,W_not)+b_not\n",
    "sig_not = 1/(1 + np.exp(-z_not))\n",
    "print('Sigmoid \\n:', sig_not)\n",
    "yhat1 = 0\n",
    "yhat_not = []\n",
    "for i in range(len(Y)):\n",
    "    if (sig_not[i] < 0.5):\n",
    "        yhat1 = 0\n",
    "    else:\n",
    "        yhat1 = 1\n",
    "    yhat_not.append(yhat1)\n",
    "print('\\n Yhat:', yhat_not)"
   ]
  },
  {
   "cell_type": "code",
   "execution_count": 67,
   "id": "39411ada",
   "metadata": {},
   "outputs": [
    {
     "name": "stdout",
     "output_type": "stream",
     "text": [
      "[[9.99993856e-01]\n",
      " [4.74258732e-02]\n",
      " [4.74258732e-02]\n",
      " [1.52299795e-08]]\n",
      "\n",
      " Yhat: [1, 0, 0, 0]\n"
     ]
    }
   ],
   "source": [
    "# Define input\n",
    "X = np.array([[0,0],[0,1],[1,0],[1,1]])\n",
    "\n",
    "# Define output features\n",
    "Y = np.array([[1,0,0,1]])\n",
    "\n",
    "# Reshape target into vector\n",
    "Y = Y.reshape(4,1)\n",
    "\n",
    "# Layer 1: (Not X1) and (Not X2) gate (NOR gate)\n",
    "W11 = np.array([[-15],[-15]])\n",
    "b11 = 12\n",
    "\n",
    "# Apply weights and bias\n",
    "z11 = np.dot(X, W11) + b11\n",
    "\n",
    "# Apply activation function (sigmoid)\n",
    "sig11 = 1 / (1 + np.exp(-z11))\n",
    "\n",
    "print(sig11)\n",
    "# Output\n",
    "yhat1 = 0\n",
    "yhata1 = []\n",
    "for i in range(len(Y)):\n",
    "    if (sig11[i] < 0.5):\n",
    "        yhat1 = 0\n",
    "    else:\n",
    "        yhat1 = 1\n",
    "    yhata1.append(yhat1)\n",
    "print('\\n Yhat:', yhata1)\n"
   ]
  },
  {
   "cell_type": "code",
   "execution_count": 62,
   "id": "6efc1a75",
   "metadata": {},
   "outputs": [
    {
     "name": "stdout",
     "output_type": "stream",
     "text": [
      "[[1.38879439e-11]\n",
      " [4.53978687e-05]\n",
      " [4.53978687e-05]\n",
      " [9.93307149e-01]]\n",
      "\n",
      " Yhat: [0, 0, 0, 1]\n"
     ]
    }
   ],
   "source": [
    "# Define input\n",
    "X = np.array([[0,0],[0,1],[1,0],[1,1]])\n",
    "\n",
    "# Define output features\n",
    "Y = np.array([[1,0,0,1]])\n",
    "\n",
    "# Reshape target into vector\n",
    "Y = Y.reshape(4,1)\n",
    "\n",
    "# Layer 1: (Not X1) and (Not X2) gate (NOR gate)\n",
    "W11 = np.array([[15],[15]])\n",
    "b11 = -25\n",
    "\n",
    "# Apply weights and bias\n",
    "z11 = np.dot(X, W11) + b11\n",
    "\n",
    "# Apply activation function (sigmoid)\n",
    "sig11 = 1 / (1 + np.exp(-z11))\n",
    "\n",
    "print(sig11)\n",
    "# Output\n",
    "yhat1 = 0\n",
    "yhata2 = []\n",
    "for i in range(len(Y)):\n",
    "    if (sig11[i] < 0.5):\n",
    "        yhat1 = 0\n",
    "    else:\n",
    "        yhat1 = 1\n",
    "    yhata2.append(yhat1)\n",
    "print('\\n Yhat:', yhat)"
   ]
  },
  {
   "cell_type": "code",
   "execution_count": 63,
   "id": "2272aa6f",
   "metadata": {},
   "outputs": [
    {
     "name": "stdout",
     "output_type": "stream",
     "text": [
      "[ 10 -10 -10  10]\n",
      "Sigmoid \n",
      ": [9.99954602e-01 4.53978687e-05 4.53978687e-05 9.99954602e-01]\n",
      "\n",
      " Yhata2: [1, 0, 0, 1]\n"
     ]
    }
   ],
   "source": [
    "\n",
    "w21=20\n",
    "w22=20\n",
    "b2=-15\n",
    "z1=np.dot(w21,yhata1)\n",
    "z2=np.dot(w22,yhata2)\n",
    "z=z1+z2+b\n",
    "print(z)\n",
    "sig=1/(1+np.exp(-z))\n",
    "print('Sigmoid \\n:', sig)\n",
    "yhat1 = 0\n",
    "yhatf = []\n",
    "for i in range(len(Y)):\n",
    "    if (sig[i] < 0.5):\n",
    "        yhat1 = 0\n",
    "    else:\n",
    "        yhat1 = 1\n",
    "    yhatf.append(yhat1)\n",
    "print('\\n Yhata2:', yhatf)"
   ]
  }
 ],
 "metadata": {
  "kernelspec": {
   "display_name": "Python 3 (ipykernel)",
   "language": "python",
   "name": "python3"
  },
  "language_info": {
   "codemirror_mode": {
    "name": "ipython",
    "version": 3
   },
   "file_extension": ".py",
   "mimetype": "text/x-python",
   "name": "python",
   "nbconvert_exporter": "python",
   "pygments_lexer": "ipython3",
   "version": "3.9.4"
  }
 },
 "nbformat": 4,
 "nbformat_minor": 5
}
